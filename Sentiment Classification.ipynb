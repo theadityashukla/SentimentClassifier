{
 "cells": [
  {
   "cell_type": "code",
   "execution_count": 1,
   "metadata": {},
   "outputs": [],
   "source": [
    "import string\n",
    "from collections import Counter\n",
    "\n",
    "import torch\n",
    "import torch.nn.init as init\n",
    "import torch.nn as nn\n",
    "import pandas as pd\n",
    "import numpy as np"
   ]
  },
  {
   "cell_type": "code",
   "execution_count": 2,
   "metadata": {},
   "outputs": [],
   "source": [
    "with open('../sentiment-rnn/data/reviews.txt','r') as file:\n",
    "    review = file.readlines()\n",
    "with open('../sentiment-rnn/data/labels.txt','r') as file:\n",
    "    labels = file.readlines()"
   ]
  },
  {
   "cell_type": "code",
   "execution_count": 3,
   "metadata": {},
   "outputs": [
    {
     "data": {
      "text/html": [
       "<div>\n",
       "<style scoped>\n",
       "    .dataframe tbody tr th:only-of-type {\n",
       "        vertical-align: middle;\n",
       "    }\n",
       "\n",
       "    .dataframe tbody tr th {\n",
       "        vertical-align: top;\n",
       "    }\n",
       "\n",
       "    .dataframe thead th {\n",
       "        text-align: right;\n",
       "    }\n",
       "</style>\n",
       "<table border=\"1\" class=\"dataframe\">\n",
       "  <thead>\n",
       "    <tr style=\"text-align: right;\">\n",
       "      <th></th>\n",
       "      <th>REVIEWS</th>\n",
       "      <th>LABELS</th>\n",
       "    </tr>\n",
       "  </thead>\n",
       "  <tbody>\n",
       "    <tr>\n",
       "      <th>0</th>\n",
       "      <td>bromwell high is a cartoon comedy . it ran at ...</td>\n",
       "      <td>positive\\n</td>\n",
       "    </tr>\n",
       "    <tr>\n",
       "      <th>1</th>\n",
       "      <td>story of a man who has unnatural feelings for ...</td>\n",
       "      <td>negative\\n</td>\n",
       "    </tr>\n",
       "    <tr>\n",
       "      <th>2</th>\n",
       "      <td>homelessness  or houselessness as george carli...</td>\n",
       "      <td>positive\\n</td>\n",
       "    </tr>\n",
       "  </tbody>\n",
       "</table>\n",
       "</div>"
      ],
      "text/plain": [
       "                                             REVIEWS      LABELS\n",
       "0  bromwell high is a cartoon comedy . it ran at ...  positive\\n\n",
       "1  story of a man who has unnatural feelings for ...  negative\\n\n",
       "2  homelessness  or houselessness as george carli...  positive\\n"
      ]
     },
     "execution_count": 3,
     "metadata": {},
     "output_type": "execute_result"
    }
   ],
   "source": [
    "raw_rdc = pd.DataFrame({'REVIEWS':review,'LABELS':labels})\n",
    "raw_rdc.head(3)"
   ]
  },
  {
   "cell_type": "code",
   "execution_count": 4,
   "metadata": {},
   "outputs": [],
   "source": [
    "def standardize_column_values(data: pd.DataFrame, columns: list) -> pd.DataFrame:\n",
    "    trans = str.maketrans('', '', string.punctuation)  # Pre-create translation table\n",
    "    for col in columns:\n",
    "        data[col] = data[col].str.lower().str.translate(trans)  # Combine vectorized string operations\n",
    "    return data.copy()  # Return a copy to avoid modifying the original DataFrame"
   ]
  },
  {
   "cell_type": "code",
   "execution_count": 5,
   "metadata": {},
   "outputs": [
    {
     "data": {
      "text/html": [
       "<div>\n",
       "<style scoped>\n",
       "    .dataframe tbody tr th:only-of-type {\n",
       "        vertical-align: middle;\n",
       "    }\n",
       "\n",
       "    .dataframe tbody tr th {\n",
       "        vertical-align: top;\n",
       "    }\n",
       "\n",
       "    .dataframe thead th {\n",
       "        text-align: right;\n",
       "    }\n",
       "</style>\n",
       "<table border=\"1\" class=\"dataframe\">\n",
       "  <thead>\n",
       "    <tr style=\"text-align: right;\">\n",
       "      <th></th>\n",
       "      <th>REVIEWS</th>\n",
       "      <th>LABELS</th>\n",
       "      <th>POSITIVE</th>\n",
       "    </tr>\n",
       "  </thead>\n",
       "  <tbody>\n",
       "    <tr>\n",
       "      <th>0</th>\n",
       "      <td>bromwell high is a cartoon comedy  it ran at t...</td>\n",
       "      <td>positive\\n</td>\n",
       "      <td>1</td>\n",
       "    </tr>\n",
       "    <tr>\n",
       "      <th>1</th>\n",
       "      <td>story of a man who has unnatural feelings for ...</td>\n",
       "      <td>negative\\n</td>\n",
       "      <td>0</td>\n",
       "    </tr>\n",
       "    <tr>\n",
       "      <th>2</th>\n",
       "      <td>homelessness  or houselessness as george carli...</td>\n",
       "      <td>positive\\n</td>\n",
       "      <td>1</td>\n",
       "    </tr>\n",
       "    <tr>\n",
       "      <th>3</th>\n",
       "      <td>airport    starts as a brand new luxury    pla...</td>\n",
       "      <td>negative\\n</td>\n",
       "      <td>0</td>\n",
       "    </tr>\n",
       "    <tr>\n",
       "      <th>4</th>\n",
       "      <td>brilliant over  acting by lesley ann warren  b...</td>\n",
       "      <td>positive\\n</td>\n",
       "      <td>1</td>\n",
       "    </tr>\n",
       "  </tbody>\n",
       "</table>\n",
       "</div>"
      ],
      "text/plain": [
       "                                             REVIEWS      LABELS  POSITIVE\n",
       "0  bromwell high is a cartoon comedy  it ran at t...  positive\\n         1\n",
       "1  story of a man who has unnatural feelings for ...  negative\\n         0\n",
       "2  homelessness  or houselessness as george carli...  positive\\n         1\n",
       "3  airport    starts as a brand new luxury    pla...  negative\\n         0\n",
       "4  brilliant over  acting by lesley ann warren  b...  positive\\n         1"
      ]
     },
     "execution_count": 5,
     "metadata": {},
     "output_type": "execute_result"
    }
   ],
   "source": [
    "rdc = standardize_column_values(raw_rdc,columns=['REVIEWS','LABELS'])\n",
    "rdc['POSITIVE'] = np.where(rdc.LABELS.str.lower()=='positive\\n',1,0)\n",
    "rdc.head()"
   ]
  },
  {
   "cell_type": "code",
   "execution_count": 6,
   "metadata": {},
   "outputs": [],
   "source": [
    "from collections import Counter"
   ]
  },
  {
   "cell_type": "code",
   "execution_count": 7,
   "metadata": {},
   "outputs": [],
   "source": [
    "# Create Encodings\n",
    "cntr = Counter(''.join(rdc.REVIEWS.to_list()).split())\n",
    "vocab = sorted(cntr,key = cntr.get, reverse=True)\n",
    "encoding = {word:code for code,word in enumerate(vocab,1)}"
   ]
  },
  {
   "cell_type": "code",
   "execution_count": 8,
   "metadata": {},
   "outputs": [],
   "source": [
    "def encode(review:str, encoding:dict=encoding):\n",
    "    return [encoding[word] for word in review.split() if word not in string.whitespace]\n",
    "\n",
    "def create_padded_encoding(string:str,encoding:dict=encoding,seq_len:int=256)->str:\n",
    "    padding = seq_len - len(string.split())\n",
    "    if padding <= 0:\n",
    "        return encode(' '.join(string.split()[:seq_len]))\n",
    "    else:\n",
    "        return encode(string)+list(np.zeros(padding))"
   ]
  },
  {
   "cell_type": "code",
   "execution_count": 9,
   "metadata": {},
   "outputs": [
    {
     "data": {
      "text/plain": [
       "count    25000.000000\n",
       "mean      1334.043000\n",
       "std       1007.516843\n",
       "min         55.000000\n",
       "25%        708.000000\n",
       "50%        986.000000\n",
       "75%       1622.000000\n",
       "max      13741.000000\n",
       "Name: REVIEWS, dtype: float64"
      ]
     },
     "execution_count": 9,
     "metadata": {},
     "output_type": "execute_result"
    }
   ],
   "source": [
    "rdc.REVIEWS.str.len().describe()"
   ]
  },
  {
   "cell_type": "code",
   "execution_count": 10,
   "metadata": {},
   "outputs": [],
   "source": [
    "threshold = rdc.REVIEWS.str.len().mean() + 3 * rdc.REVIEWS.str.len().std()"
   ]
  },
  {
   "cell_type": "code",
   "execution_count": 11,
   "metadata": {},
   "outputs": [],
   "source": [
    "select_reveiws = rdc[rdc.REVIEWS.str.len()<threshold]"
   ]
  },
  {
   "cell_type": "code",
   "execution_count": 12,
   "metadata": {},
   "outputs": [
    {
     "name": "stderr",
     "output_type": "stream",
     "text": [
      "/var/folders/5f/5zjyy8xn5yd__x_zmgn518_c0000gn/T/ipykernel_2903/2434981666.py:1: SettingWithCopyWarning: \n",
      "A value is trying to be set on a copy of a slice from a DataFrame.\n",
      "Try using .loc[row_indexer,col_indexer] = value instead\n",
      "\n",
      "See the caveats in the documentation: https://pandas.pydata.org/pandas-docs/stable/user_guide/indexing.html#returning-a-view-versus-a-copy\n",
      "  select_reveiws.loc[:,'ENCODED_REVIEW'] = rdc.REVIEWS.apply(lambda x:create_padded_encoding(x,encoding=encode,seq_len=258))\n"
     ]
    },
    {
     "data": {
      "text/html": [
       "<div>\n",
       "<style scoped>\n",
       "    .dataframe tbody tr th:only-of-type {\n",
       "        vertical-align: middle;\n",
       "    }\n",
       "\n",
       "    .dataframe tbody tr th {\n",
       "        vertical-align: top;\n",
       "    }\n",
       "\n",
       "    .dataframe thead th {\n",
       "        text-align: right;\n",
       "    }\n",
       "</style>\n",
       "<table border=\"1\" class=\"dataframe\">\n",
       "  <thead>\n",
       "    <tr style=\"text-align: right;\">\n",
       "      <th></th>\n",
       "      <th>ENCODED_REVIEW</th>\n",
       "      <th>POSITIVE</th>\n",
       "    </tr>\n",
       "  </thead>\n",
       "  <tbody>\n",
       "    <tr>\n",
       "      <th>0</th>\n",
       "      <td>[21025, 308, 6, 3, 1050, 207, 8, 2138, 32, 1, ...</td>\n",
       "      <td>1</td>\n",
       "    </tr>\n",
       "    <tr>\n",
       "      <th>1</th>\n",
       "      <td>[63, 4, 3, 125, 36, 47, 7472, 1395, 16, 3, 418...</td>\n",
       "      <td>0</td>\n",
       "    </tr>\n",
       "    <tr>\n",
       "      <th>2</th>\n",
       "      <td>[22382, 42, 46418, 15, 706, 17139, 3389, 47, 7...</td>\n",
       "      <td>1</td>\n",
       "    </tr>\n",
       "    <tr>\n",
       "      <th>4</th>\n",
       "      <td>[520, 119, 113, 34, 16372, 1816, 3737, 117, 88...</td>\n",
       "      <td>1</td>\n",
       "    </tr>\n",
       "    <tr>\n",
       "      <th>5</th>\n",
       "      <td>[11, 20, 3637, 141, 10, 422, 23, 272, 60, 4355...</td>\n",
       "      <td>0</td>\n",
       "    </tr>\n",
       "  </tbody>\n",
       "</table>\n",
       "</div>"
      ],
      "text/plain": [
       "                                      ENCODED_REVIEW  POSITIVE\n",
       "0  [21025, 308, 6, 3, 1050, 207, 8, 2138, 32, 1, ...         1\n",
       "1  [63, 4, 3, 125, 36, 47, 7472, 1395, 16, 3, 418...         0\n",
       "2  [22382, 42, 46418, 15, 706, 17139, 3389, 47, 7...         1\n",
       "4  [520, 119, 113, 34, 16372, 1816, 3737, 117, 88...         1\n",
       "5  [11, 20, 3637, 141, 10, 422, 23, 272, 60, 4355...         0"
      ]
     },
     "execution_count": 12,
     "metadata": {},
     "output_type": "execute_result"
    }
   ],
   "source": [
    "select_reveiws.loc[:,'ENCODED_REVIEW'] = rdc.REVIEWS.apply(lambda x:create_padded_encoding(x,encoding=encode,seq_len=258))\n",
    "select_reveiws = select_reveiws[['ENCODED_REVIEW','POSITIVE']]\n",
    "select_reveiws.head()"
   ]
  },
  {
   "cell_type": "code",
   "execution_count": 13,
   "metadata": {},
   "outputs": [],
   "source": [
    "split_frac = 0.8\n",
    "\n",
    "from sklearn.model_selection import train_test_split\n",
    "\n",
    "train_reviews,test_reviews,train_labels,test_labels = train_test_split(select_reveiws.ENCODED_REVIEW,select_reveiws.POSITIVE,test_size=0.2)\n",
    "val_reviews,test_reviews,val_labels,test_labels = train_test_split(test_reviews,test_labels,test_size=0.5)"
   ]
  },
  {
   "cell_type": "code",
   "execution_count": 14,
   "metadata": {},
   "outputs": [
    {
     "data": {
      "text/plain": [
       "((19540,), (2442,), (2443,))"
      ]
     },
     "execution_count": 14,
     "metadata": {},
     "output_type": "execute_result"
    }
   ],
   "source": [
    "train_reviews.shape, val_reviews.shape, test_reviews.shape"
   ]
  },
  {
   "cell_type": "code",
   "execution_count": 15,
   "metadata": {},
   "outputs": [],
   "source": [
    "import torch\n",
    "from torch.utils.data import TensorDataset, DataLoader\n",
    "\n",
    "# create Tensor datasets\n",
    "train_data = TensorDataset(torch.tensor(train_reviews.to_list(),dtype=int), torch.tensor(train_labels.to_list(),dtype=int))\n",
    "valid_data = TensorDataset(torch.tensor(val_reviews.to_list(),dtype=int), torch.tensor(val_labels.to_list(),dtype=int))\n",
    "\n",
    "# dataloaders\n",
    "batch_size = 128\n",
    "\n",
    "# make sure to SHUFFLE your data\n",
    "train_loader = DataLoader(train_data, shuffle=True, batch_size=batch_size)\n",
    "valid_loader = DataLoader(valid_data, shuffle=True, batch_size=batch_size)"
   ]
  },
  {
   "cell_type": "code",
   "execution_count": 16,
   "metadata": {},
   "outputs": [
    {
     "name": "stdout",
     "output_type": "stream",
     "text": [
      "Sample input size:  torch.Size([128, 258])\n",
      "Sample input: \n",
      " tensor([[15089, 14800,     6,  ...,     0,     0,     0],\n",
      "        [ 2925,     4,     1,  ...,  2637,   424,    23],\n",
      "        [   10,   216,    11,  ...,     0,     0,     0],\n",
      "        ...,\n",
      "        [  428,     4,   212,  ...,     0,     0,     0],\n",
      "        [67352,   906,  1888,  ...,   516,     1,  3356],\n",
      "        [   10,   563,     5,  ...,    23,  3009,     8]])\n",
      "\n",
      "Sample label size:  torch.Size([128])\n",
      "Sample label: \n",
      " tensor([1, 1, 1, 0, 0, 1, 1, 1, 1, 0, 0, 1, 0, 0, 0, 1, 1, 1, 1, 0, 1, 1, 1, 0,\n",
      "        1, 0, 0, 1, 1, 1, 1, 1, 0, 0, 1, 0, 1, 1, 0, 0, 1, 1, 0, 1, 0, 0, 1, 0,\n",
      "        0, 1, 1, 1, 1, 1, 1, 1, 1, 1, 0, 0, 1, 0, 0, 0, 1, 1, 0, 1, 1, 0, 1, 1,\n",
      "        1, 1, 0, 1, 0, 0, 0, 0, 0, 1, 0, 1, 1, 0, 0, 1, 1, 1, 0, 0, 1, 0, 1, 1,\n",
      "        1, 1, 0, 1, 0, 0, 0, 1, 0, 1, 0, 0, 1, 1, 0, 1, 0, 0, 1, 0, 0, 0, 1, 1,\n",
      "        0, 1, 0, 0, 1, 0, 1, 0])\n"
     ]
    }
   ],
   "source": [
    "# Obtain one batch of training data using iter and next\n",
    "dataiter = iter(train_loader)\n",
    "sample_x, sample_y = next(dataiter)\n",
    "\n",
    "print('Sample input size: ', sample_x.size())  # batch_size, seq_length\n",
    "print('Sample input: \\n', sample_x)\n",
    "print()\n",
    "print('Sample label size: ', sample_y.size())  # batch_size\n",
    "print('Sample label: \\n', sample_y)"
   ]
  },
  {
   "cell_type": "markdown",
   "metadata": {},
   "source": [
    "## $\\text{Model}$"
   ]
  },
  {
   "cell_type": "code",
   "execution_count": 17,
   "metadata": {},
   "outputs": [],
   "source": [
    "from torch.nn import Linear,Embedding,LSTM,Sigmoid,Dropout\n",
    "import torch\n",
    "import torch.functional as F\n",
    "\n",
    "class SentimentClassifier(torch.nn.Module):\n",
    "    def __init__(self, vocab_size, embedding_nodes, hidden_dim, num_class, num_layers) -> None:\n",
    "        super().__init__()\n",
    "\n",
    "        self.embedding_layer = Embedding(num_embeddings=vocab_size,embedding_dim=embedding_nodes)\n",
    "        self.lstm = LSTM(\n",
    "                            input_size = embedding_nodes,\n",
    "                            hidden_size = hidden_dim,\n",
    "                            num_layers = num_layers,\n",
    "                            batch_first = True,\n",
    "                            dropout = 0.4\n",
    "                        )\n",
    "        self.dropout = Dropout(p=0.3)\n",
    "        self.dense = Linear(in_features=hidden_dim,out_features=num_class)\n",
    "        self.sigmoid = Sigmoid()\n",
    "\n",
    "    def forward(self,x):\n",
    "        output = self.embedding_layer(x)\n",
    "        output,(hidden,cell) = self.lstm(output)\n",
    "        # output dim = [N,L,H]; N is batch_size, L is lenght, H is hidden_dim\n",
    "        output = output[:,-1,:] #Its indexing; the first : says pick all N, then last L, and all H\n",
    "        output = self.dropout(output)\n",
    "        output = self.dense(output)\n",
    "        output = self.sigmoid(output)\n",
    "        return output"
   ]
  },
  {
   "cell_type": "markdown",
   "metadata": {},
   "source": [
    "## $\\text{Model Training Loop}$"
   ]
  },
  {
   "cell_type": "code",
   "execution_count": 19,
   "metadata": {},
   "outputs": [],
   "source": [
    "def val_loop(model, val_loader, criterion, batch_size):\n",
    "    metal_device = torch.device('mps')\n",
    "    criterion = criterion.to(metal_device)\n",
    "    model.eval()\n",
    "    total_loss = 0.0\n",
    "    num_samples = 0\n",
    "    for val_review, val_label in val_loader:\n",
    "        if val_review.size(0) < batch_size:\n",
    "            break\n",
    "        val_review = val_review.to(metal_device)\n",
    "        val_label = val_label.to(metal_device)\n",
    "        val_label = val_label.float()\n",
    "\n",
    "        with torch.no_grad():\n",
    "            pred = model(val_review)\n",
    "            loss = criterion(pred, val_label.unsqueeze(1))\n",
    "            total_loss += loss.item() * val_review.size(0)\n",
    "            num_samples += val_review.size(0)\n",
    "    model.train()\n",
    "    return total_loss / num_samples"
   ]
  },
  {
   "cell_type": "code",
   "execution_count": 20,
   "metadata": {},
   "outputs": [],
   "source": [
    "def train_loop(model,train_loader,criterion,optimizer,batch_size):\n",
    "    metal_device = torch.device('mps')\n",
    "    model = model.to(metal_device)\n",
    "    criterion = criterion.to(metal_device)\n",
    "    total_loss = 0.0\n",
    "    num_samples = 0\n",
    "    # if hidden == None:\n",
    "    #     hidden = model.init_hidden(batch_size)\n",
    "    for review,label in train_loader:\n",
    "        if review.size(0) < batch_size:\n",
    "            break\n",
    "        review = review.to(metal_device)\n",
    "        label = label.to(metal_device)\n",
    "        model.zero_grad()\n",
    "        # hidden = tuple([layer.data for layer in hidden])\n",
    "        pred = model.forward(review)\n",
    "        label = label.float()\n",
    "        # print(pred, label)\n",
    "        loss = criterion(pred,label.unsqueeze(1))\n",
    "        loss.backward()\n",
    "\n",
    "        nn.utils.clip_grad_norm_(model.parameters(),10)\n",
    "\n",
    "        optimizer.step()\n",
    "        total_loss += loss.item() * review.size(0)\n",
    "        num_samples += review.size(0)\n",
    "    return total_loss / num_samples"
   ]
  },
  {
   "cell_type": "code",
   "execution_count": 21,
   "metadata": {},
   "outputs": [],
   "source": [
    "vocab_size = len(vocab)+1\n",
    "output_size = 1\n",
    "embedding_dim = 500\n",
    "hidden_dim = 256\n",
    "n_layers = 1"
   ]
  },
  {
   "cell_type": "code",
   "execution_count": 22,
   "metadata": {},
   "outputs": [
    {
     "name": "stderr",
     "output_type": "stream",
     "text": [
      "/Users/aditya/miniconda3/envs/PyTorch/lib/python3.11/site-packages/torch/nn/modules/rnn.py:83: UserWarning: dropout option adds dropout after all but last recurrent layer, so non-zero dropout expects num_layers greater than 1, but got dropout=0.4 and num_layers=1\n",
      "  warnings.warn(\"dropout option adds dropout after all but last \"\n"
     ]
    },
    {
     "name": "stdout",
     "output_type": "stream",
     "text": [
      "SentimentClassifier(\n",
      "  (embedding_layer): Embedding(74073, 500)\n",
      "  (lstm): LSTM(500, 256, batch_first=True, dropout=0.4)\n",
      "  (dropout): Dropout(p=0.3, inplace=False)\n",
      "  (dense): Linear(in_features=256, out_features=1, bias=True)\n",
      "  (sigmoid): Sigmoid()\n",
      ")\n"
     ]
    }
   ],
   "source": [
    "net = SentimentClassifier(vocab_size, embedding_dim, hidden_dim, output_size, n_layers)\n",
    "criterion = nn.BCELoss()\n",
    "optimizer = torch.optim.Adam(net.parameters(),lr=0.001)\n",
    "\n",
    "print(net)"
   ]
  },
  {
   "cell_type": "code",
   "execution_count": 23,
   "metadata": {},
   "outputs": [
    {
     "name": "stdout",
     "output_type": "stream",
     "text": [
      "Epoch: 1; Train Loss: 0.70; Validation Loss: 0.69\n",
      "Epoch: 2; Train Loss: 0.67; Validation Loss: 0.69\n",
      "Epoch: 3; Train Loss: 0.58; Validation Loss: 0.61\n",
      "Epoch: 4; Train Loss: 0.41; Validation Loss: 0.53\n",
      "Epoch: 5; Train Loss: 0.29; Validation Loss: 0.49\n"
     ]
    }
   ],
   "source": [
    "metal_device = torch.device('mps')\n",
    "net = net.to(metal_device)\n",
    "# hidden = net.init_hidden(batch_size)\n",
    "for epoch in range(5):\n",
    "    train_loss = train_loop(net,train_loader,criterion,optimizer,batch_size)\n",
    "    val_loss = val_loop(net,val_loader=valid_loader,criterion=criterion,batch_size=batch_size)\n",
    "    print(f'Epoch: {epoch+1}; Train Loss: {train_loss:.2f}; Validation Loss: {val_loss:.2f}')"
   ]
  },
  {
   "cell_type": "code",
   "execution_count": 24,
   "metadata": {},
   "outputs": [],
   "source": [
    "def classifiy(model, data:pd.DataFrame()):\n",
    "    test_data = torch.tensor(data.to_list(),dtype=int)\n",
    "    metal_device = torch.device('mps')\n",
    "    test_data = test_data.to(metal_device)\n",
    "    model = model.to(metal_device)\n",
    "    with torch.no_grad():\n",
    "        pred = model.forward(test_data)\n",
    "    return pred.cpu().numpy().round()"
   ]
  },
  {
   "cell_type": "code",
   "execution_count": 25,
   "metadata": {},
   "outputs": [],
   "source": [
    "torch.mps.empty_cache()"
   ]
  },
  {
   "cell_type": "code",
   "execution_count": 26,
   "metadata": {},
   "outputs": [],
   "source": [
    "preds = classifiy(net,test_reviews)"
   ]
  },
  {
   "cell_type": "code",
   "execution_count": 27,
   "metadata": {},
   "outputs": [],
   "source": [
    "import seaborn as sns\n",
    "import matplotlib.pyplot as plt\n",
    "from sklearn.metrics import confusion_matrix,accuracy_score,f1_score,precision_score,recall_score"
   ]
  },
  {
   "cell_type": "code",
   "execution_count": 28,
   "metadata": {},
   "outputs": [
    {
     "name": "stdout",
     "output_type": "stream",
     "text": [
      "Accuracy: 0.79\n",
      "F1 Score: 0.78\n",
      "Precision: 0.80\n",
      "Recall: 0.77\n"
     ]
    },
    {
     "data": {
      "image/png": "[encoded data removed]",
      "text/plain": [
       "<Figure size 200x150 with 2 Axes>"
      ]
     },
     "metadata": {},
     "output_type": "display_data"
    }
   ],
   "source": [
    "# Calculate confusion matrix\n",
    "conf_matrix = confusion_matrix(test_labels, preds.round())\n",
    "print(f\"Accuracy: {accuracy_score(test_labels,preds):.2f}\")\n",
    "print(f\"F1 Score: {f1_score(test_labels,preds):.2f}\")\n",
    "print(f\"Precision: {precision_score(test_labels,preds):.2f}\")\n",
    "print(f\"Recall: {recall_score(test_labels,preds):.2f}\")\n",
    "# Plot confusion matrix using Seaborn\n",
    "plt.figure(figsize=(2, 1.5))\n",
    "sns.heatmap(conf_matrix, annot=True, cmap=\"Blues\", fmt=\"d\", xticklabels=[0, 1], yticklabels=[0, 1])\n",
    "plt.xlabel('Predicted')\n",
    "plt.ylabel('True')\n",
    "plt.title('Confusion Matrix')\n",
    "plt.show()"
   ]
  },
  {
   "cell_type": "code",
   "execution_count": null,
   "metadata": {},
   "outputs": [],
   "source": []
  }
 ],
 "metadata": {
  "kernelspec": {
   "display_name": "PyTorch",
   "language": "python",
   "name": "python3"
  },
  "language_info": {
   "codemirror_mode": {
    "name": "ipython",
    "version": 3
   },
   "file_extension": ".py",
   "mimetype": "text/x-python",
   "name": "python",
   "nbconvert_exporter": "python",
   "pygments_lexer": "ipython3",
   "version": "3.11.4"
  }
 },
 "nbformat": 4,
 "nbformat_minor": 2
}
